{
 "cells": [
  {
   "cell_type": "code",
   "execution_count": 1,
   "metadata": {},
   "outputs": [],
   "source": [
    "#Import required libraries\n",
    "\n",
    "import random\n",
    "import numpy as np\n",
    "import matplotlib.pyplot as plt"
   ]
  },
  {
   "cell_type": "code",
   "execution_count": 2,
   "metadata": {},
   "outputs": [],
   "source": [
    "#defining coin flip functions\n",
    "#0 --> Heads\n",
    "#1 --> Tails\n",
    "\n",
    "def coin_flip():\n",
    "    return random.randint(0,1) "
   ]
  },
  {
   "cell_type": "code",
   "execution_count": 3,
   "metadata": {},
   "outputs": [],
   "source": [
    "#function for monte carlo simulation \n",
    "\n",
    "#empty list to store the probability values\n",
    "list1 = []\n",
    "\n",
    "def monte_carlo(n):\n",
    "    results = 0\n",
    "    for i in range(n):\n",
    "        flip_result = coin_flip()\n",
    "        results = results + flip_result\n",
    "        \n",
    "        #Calculating probability value :\n",
    "        prob_value = results/(i+1)\n",
    "        \n",
    "        #Append the probability values to the list :\n",
    "        list1.append(prob_value)\n",
    "\n",
    "        #Plot the results :\n",
    "        plt.axhline(y=0.5, color='r', linestyle='-')\n",
    "        plt.xlabel(\"Iterations\")\n",
    "        plt.ylabel(\"Probability\")\n",
    "        plt.plot(list1)\n",
    "       \n",
    "    return results/n"
   ]
  },
  {
   "cell_type": "code",
   "execution_count": 5,
   "metadata": {},
   "outputs": [
    {
     "name": "stdout",
     "output_type": "stream",
     "text": [
      "Final value : 0.4978\n"
     ]
    },
    {
     "data": {
      "image/png": "[encoded data removed]",
      "text/plain": [
       "<Figure size 432x288 with 1 Axes>"
      ]
     },
     "metadata": {
      "needs_background": "light"
     },
     "output_type": "display_data"
    }
   ],
   "source": [
    "#calling funcions \n",
    "answer = monte_carlo(5000)\n",
    "print(\"Final value :\",answer)"
   ]
  },
  {
   "cell_type": "raw",
   "metadata": {},
   "source": [
    "As shown in above figure , we show that after 5000 iterations, the probability of getting a tail is 0.502. Consequently, this is how we can use the Monte Carlo Simulation to find probabilities experimentally."
   ]
  }
 ],
 "metadata": {
  "kernelspec": {
   "display_name": "Python 3",
   "language": "python",
   "name": "python3"
  },
  "language_info": {
   "codemirror_mode": {
    "name": "ipython",
    "version": 3
   },
   "file_extension": ".py",
   "mimetype": "text/x-python",
   "name": "python",
   "nbconvert_exporter": "python",
   "pygments_lexer": "ipython3",
   "version": "3.8.5"
  }
 },
 "nbformat": 4,
 "nbformat_minor": 4
}
