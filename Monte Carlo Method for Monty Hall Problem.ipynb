{
 "cells": [
  {
   "cell_type": "code",
   "execution_count": 1,
   "metadata": {},
   "outputs": [],
   "source": [
    "#Import required libraries :\n",
    "import random\n",
    "import matplotlib.pyplot as plt"
   ]
  },
  {
   "cell_type": "code",
   "execution_count": 2,
   "metadata": {},
   "outputs": [
    {
     "data": {
      "text/plain": [
       "<matplotlib.lines.Line2D at 0x21e63f30f70>"
      ]
     },
     "execution_count": 2,
     "metadata": {},
     "output_type": "execute_result"
    },
    {
     "data": {
      "image/png": "[encoded data removed]",
      "text/plain": [
       "<Figure size 432x288 with 1 Axes>"
      ]
     },
     "metadata": {
      "needs_background": "light"
     },
     "output_type": "display_data"
    }
   ],
   "source": [
    "#initializing the data \n",
    "#We are going with 3 doors :\n",
    "#1 - Car\n",
    "#2 - Goats\n",
    "doors = [\"goat\",\"goat\",\"car\"]\n",
    "#Empty lists to store probability values :\n",
    "switch_win_probability = []\n",
    "stick_win_probability = []\n",
    "\n",
    "plt.axhline(y=0.66666, color='r', linestyle='-')\n",
    "plt.axhline(y=0.33333, color='g', linestyle='-')"
   ]
  },
  {
   "cell_type": "code",
   "execution_count": 3,
   "metadata": {},
   "outputs": [],
   "source": [
    "#Monte_Carlo Simulation :\n",
    "def monte_carlo(n):\n",
    "    \n",
    "    #Calculating switch and stick wins :\n",
    "    switch_wins = 0\n",
    "    stick_wins = 0\n",
    "    \n",
    "    for i in range(n):\n",
    "    \n",
    "        #Randomly placing the car and goats behind the three doors :\n",
    "        random.shuffle(doors) \n",
    "        \n",
    "        #Contestant's choice :\n",
    "        k = random.randrange(2)  \n",
    "\n",
    "        #If the contestant doesn't get car :\n",
    "        if doors[k] != 'car': \n",
    "            switch_wins += 1\n",
    "            \n",
    "        #If the contestant got car :\n",
    "        else: \n",
    "            stick_wins += 1\n",
    "\n",
    "        #Updating the list values :\n",
    "        switch_win_probability.append(switch_wins/(i+1))\n",
    "        stick_win_probability.append(stick_wins/(i+1))\n",
    "        \n",
    "        #Plotting the data :\n",
    "        plt.plot(switch_win_probability)\n",
    "        plt.plot(stick_win_probability)\n",
    "        \n",
    "    #Print the probability values :\n",
    "    print('Winning probability if you always switch:',switch_win_probability[-1])\n",
    "    print('Winning probability if you always stick to your original choice:', stick_win_probability[-1])\n"
   ]
  },
  {
   "cell_type": "code",
   "execution_count": 4,
   "metadata": {},
   "outputs": [
    {
     "name": "stdout",
     "output_type": "stream",
     "text": [
      "Winning probability if you always switch: 0.674\n",
      "Winning probability if you always stick to your original choice: 0.326\n"
     ]
    },
    {
     "data": {
      "image/png": "[encoded data removed]",
      "text/plain": [
       "<Figure size 432x288 with 1 Axes>"
      ]
     },
     "metadata": {
      "needs_background": "light"
     },
     "output_type": "display_data"
    }
   ],
   "source": [
    "#Calling the function :\n",
    "monte_carlo(1000)"
   ]
  },
  {
   "cell_type": "markdown",
   "metadata": {},
   "source": [
    "it shows that after 1000 iterations, the winning probability if we switch the door is 0.669. Therefore, we are confident that it works to our advantage to switch the door in this example."
   ]
  }
 ],
 "metadata": {
  "kernelspec": {
   "display_name": "Python 3",
   "language": "python",
   "name": "python3"
  },
  "language_info": {
   "codemirror_mode": {
    "name": "ipython",
    "version": 3
   },
   "file_extension": ".py",
   "mimetype": "text/x-python",
   "name": "python",
   "nbconvert_exporter": "python",
   "pygments_lexer": "ipython3",
   "version": "3.8.5"
  }
 },
 "nbformat": 4,
 "nbformat_minor": 4
}
